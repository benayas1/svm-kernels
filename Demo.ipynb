{
 "cells": [
  {
   "cell_type": "code",
   "execution_count": 1,
   "metadata": {
    "colab": {},
    "colab_type": "code",
    "id": "a3sn3GZtQyml"
   },
   "outputs": [
    {
     "name": "stderr",
     "output_type": "stream",
     "text": [
      "/home/benayas/.local/lib/python3.6/site-packages/statsmodels/tools/_testing.py:19: FutureWarning: pandas.util.testing is deprecated. Use the functions in the public API at pandas.testing instead.\n",
      "  import pandas.util.testing as tm\n"
     ]
    }
   ],
   "source": [
    "import svm_kernels.kernels as kn\n",
    "import time as time\n",
    "import numpy as np\n",
    "import pandas as pd\n",
    "import matplotlib.pyplot as plt\n",
    "import seaborn as sns\n",
    "%matplotlib inline\n",
    "from sklearn import svm, datasets\n",
    "from sklearn.datasets import load_iris, load_digits, load_wine, load_breast_cancer\n",
    "from sklearn.preprocessing import MinMaxScaler\n",
    "from sklearn.model_selection import cross_val_score\n",
    "sns.set()"
   ]
  },
  {
   "cell_type": "code",
   "execution_count": 2,
   "metadata": {
    "colab": {
     "base_uri": "https://localhost:8080/",
     "height": 281
    },
    "colab_type": "code",
    "executionInfo": {
     "elapsed": 330898,
     "status": "ok",
     "timestamp": 1572466123733,
     "user": {
      "displayName": "Alberto Jose Benayas Alamos",
      "photoUrl": "https://lh3.googleusercontent.com/a-/AAuE7mDCSj3xohobtiMw9pws8DJfa69Dtcojufcb0jCImg=s64",
      "userId": "11113370724671368984"
     },
     "user_tz": -60
    },
    "id": "sQwYqz8mQymx",
    "outputId": "993b1088-94f1-4d88-d4e5-606952c709ac"
   },
   "outputs": [
    {
     "name": "stderr",
     "output_type": "stream",
     "text": [
      "/home/benayas/git/svm-kernels/svm_kernels/k_functions.py:17: RuntimeWarning: invalid value encountered in sqrt\n",
      "  return k / (np.sqrt(len(x) - np.dot(x, z)))\n"
     ]
    },
    {
     "data": {
      "image/png": "[encoded data removed]",
      "text/plain": [
       "<Figure size 432x288 with 1 Axes>"
      ]
     },
     "metadata": {
      "needs_background": "light"
     },
     "output_type": "display_data"
    }
   ],
   "source": [
    "# import some data to play with\n",
    "iris = datasets.load_iris()\n",
    "X = iris.data[:, :2]  # we only take the first two features. We could\n",
    "                      # avoid this ugly slicing by using a two-dim dataset\n",
    "Y = iris.target\n",
    "\n",
    "scaler = MinMaxScaler()\n",
    "X = scaler.fit_transform(X)\n",
    "\n",
    "h = .02  # step size in the mesh\n",
    "\n",
    "# we create an instance of SVM with our custom kernel and fit out data.\n",
    "clf = svm.SVC(kernel=kn.chebyshev(degree=3))\n",
    "clf.fit(X, Y)\n",
    "\n",
    "# Plot the decision boundary. For that, we will assign a color to each\n",
    "# point in the mesh [x_min, x_max]x[y_min, y_max].\n",
    "x_min, x_max = X[:, 0].min() - 1, X[:, 0].max() + 1\n",
    "y_min, y_max = X[:, 1].min() - 1, X[:, 1].max() + 1\n",
    "xx, yy = np.meshgrid(np.arange(x_min, x_max, h), np.arange(y_min, y_max, h))\n",
    "Z = clf.predict(np.c_[xx.ravel(), yy.ravel()])\n",
    "\n",
    "# Put the result into a color plot\n",
    "Z = Z.reshape(xx.shape)\n",
    "plt.pcolormesh(xx, yy, Z, cmap=plt.cm.Paired)\n",
    "\n",
    "# Plot also the training points\n",
    "plt.scatter(X[:, 0], X[:, 1], c=Y, cmap=plt.cm.Paired, edgecolors='k')\n",
    "plt.title('3-Class classification using Support Vector Machine with custom'\n",
    "          ' kernel')\n",
    "plt.axis('tight')\n",
    "plt.show()"
   ]
  },
  {
   "cell_type": "code",
   "execution_count": 3,
   "metadata": {
    "colab": {},
    "colab_type": "code",
    "id": "ae4fCUbTQym1"
   },
   "outputs": [
    {
     "name": "stdout",
     "output_type": "stream",
     "text": [
      "Running test for dataset Iris and kernel RBF\n",
      "Running test for dataset Iris and kernel Hermite 2\n",
      "Running test for dataset Iris and kernel Hermite 3\n",
      "Running test for dataset Iris and kernel Chebyshev 2\n",
      "Running test for dataset Iris and kernel Chebyshev 3\n",
      "Running test for dataset Wine and kernel RBF\n",
      "Running test for dataset Wine and kernel Hermite 2\n",
      "Running test for dataset Wine and kernel Hermite 3\n",
      "Running test for dataset Wine and kernel Chebyshev 2\n",
      "Running test for dataset Wine and kernel Chebyshev 3\n"
     ]
    },
    {
     "data": {
      "text/html": [
       "<div>\n",
       "<style scoped>\n",
       "    .dataframe tbody tr th:only-of-type {\n",
       "        vertical-align: middle;\n",
       "    }\n",
       "\n",
       "    .dataframe tbody tr th {\n",
       "        vertical-align: top;\n",
       "    }\n",
       "\n",
       "    .dataframe thead tr th {\n",
       "        text-align: left;\n",
       "    }\n",
       "</style>\n",
       "<table border=\"1\" class=\"dataframe\">\n",
       "  <thead>\n",
       "    <tr>\n",
       "      <th>Dataset</th>\n",
       "      <th colspan=\"3\" halign=\"left\">Iris</th>\n",
       "      <th colspan=\"3\" halign=\"left\">Wine</th>\n",
       "    </tr>\n",
       "    <tr>\n",
       "      <th>Value</th>\n",
       "      <th>mean</th>\n",
       "      <th>stdev</th>\n",
       "      <th>time</th>\n",
       "      <th>mean</th>\n",
       "      <th>stdev</th>\n",
       "      <th>time</th>\n",
       "    </tr>\n",
       "  </thead>\n",
       "  <tbody>\n",
       "    <tr>\n",
       "      <th>RBF</th>\n",
       "      <td>96.000</td>\n",
       "      <td>2.494</td>\n",
       "      <td>0.01</td>\n",
       "      <td>96.648</td>\n",
       "      <td>1.029</td>\n",
       "      <td>0.01</td>\n",
       "    </tr>\n",
       "    <tr>\n",
       "      <th>Hermite 2</th>\n",
       "      <td>94.667</td>\n",
       "      <td>3.399</td>\n",
       "      <td>1.14</td>\n",
       "      <td>94.423</td>\n",
       "      <td>2.923</td>\n",
       "      <td>1.60</td>\n",
       "    </tr>\n",
       "    <tr>\n",
       "      <th>Hermite 3</th>\n",
       "      <td>98.000</td>\n",
       "      <td>2.667</td>\n",
       "      <td>2.10</td>\n",
       "      <td>94.980</td>\n",
       "      <td>3.209</td>\n",
       "      <td>2.96</td>\n",
       "    </tr>\n",
       "    <tr>\n",
       "      <th>Chebyshev 2</th>\n",
       "      <td>95.333</td>\n",
       "      <td>2.667</td>\n",
       "      <td>1.38</td>\n",
       "      <td>95.503</td>\n",
       "      <td>2.815</td>\n",
       "      <td>1.96</td>\n",
       "    </tr>\n",
       "    <tr>\n",
       "      <th>Chebyshev 3</th>\n",
       "      <td>96.667</td>\n",
       "      <td>2.108</td>\n",
       "      <td>2.54</td>\n",
       "      <td>96.078</td>\n",
       "      <td>2.207</td>\n",
       "      <td>3.59</td>\n",
       "    </tr>\n",
       "  </tbody>\n",
       "</table>\n",
       "</div>"
      ],
      "text/plain": [
       "Dataset        Iris                 Wine             \n",
       "Value          mean  stdev  time    mean  stdev  time\n",
       "RBF          96.000  2.494  0.01  96.648  1.029  0.01\n",
       "Hermite 2    94.667  3.399  1.14  94.423  2.923  1.60\n",
       "Hermite 3    98.000  2.667  2.10  94.980  3.209  2.96\n",
       "Chebyshev 2  95.333  2.667  1.38  95.503  2.815  1.96\n",
       "Chebyshev 3  96.667  2.108  2.54  96.078  2.207  3.59"
      ]
     },
     "execution_count": 3,
     "metadata": {},
     "output_type": "execute_result"
    }
   ],
   "source": [
    "sets = [('Iris', load_iris), ('Wine',load_wine)]\n",
    "kernel = [('RBF','rbf'),\n",
    "          ('Hermite 2',kn.hermite(degree=2)),\n",
    "          ('Hermite 3',kn.hermite(degree=3)),\n",
    "          ('Chebyshev 2',kn.chebyshev(degree=2)),\n",
    "          ('Chebyshev 3',kn.chebyshev(degree=3)),\n",
    "         ]\n",
    "\n",
    "df_results = pd.DataFrame()\n",
    "cols = [[],[]]\n",
    "results_all = np.zeros((len(kernel), 3*len(sets)))\n",
    "\n",
    "for i,d in enumerate(sets):\n",
    "    # Get data\n",
    "    data, target = d[1](return_X_y=True)\n",
    "    scaler = MinMaxScaler()\n",
    "    data = scaler.fit_transform(data)\n",
    "    cols[0] = cols[0] + [d[0]]*3\n",
    "    cols[1] = cols[1] + ['mean','stdev','time']\n",
    "    \n",
    "    # Run all kernels\n",
    "    for j,k in enumerate(kernel):\n",
    "        print('Running test for dataset {} and kernel {}'.format(d[0],k[0]))\n",
    "        clf = svm.SVC(kernel=k[1], gamma='auto')\n",
    "        start = time.time()\n",
    "        score = cross_val_score(clf, data, target, cv=5)\n",
    "        results_all[j,i*3:i*3+3] = np.round(100*np.mean(score),3),np.round(100*np.std(score),3),np.round(time.time()-start,2)\n",
    "\n",
    "cols = pd.MultiIndex.from_tuples(list(zip(*cols)), names=['Dataset', 'Value'])\n",
    "df_results = pd.DataFrame( data= results_all, index=[k[0] for k in kernel] ,columns=cols)\n",
    "df_results"
   ]
  }
 ],
 "metadata": {
  "colab": {
   "name": "SVM Kernel.ipynb",
   "provenance": []
  },
  "kernelspec": {
   "display_name": "Python 3",
   "language": "python",
   "name": "python3"
  },
  "language_info": {
   "codemirror_mode": {
    "name": "ipython",
    "version": 3
   },
   "file_extension": ".py",
   "mimetype": "text/x-python",
   "name": "python",
   "nbconvert_exporter": "python",
   "pygments_lexer": "ipython3",
   "version": "3.6.9"
  }
 },
 "nbformat": 4,
 "nbformat_minor": 4
}
